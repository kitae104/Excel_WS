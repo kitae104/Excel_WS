{
 "cells": [
  {
   "cell_type": "markdown",
   "metadata": {},
   "source": [
    "# 엑셀 셀 스타일 다루기 - Font, Border, Side, PatternFill, Alignment"
   ]
  },
  {
   "cell_type": "code",
   "execution_count": 1,
   "metadata": {},
   "outputs": [],
   "source": [
    "from openpyxl import load_workbook\n",
    "from openpyxl.styles import Font, Border, Side, PatternFill, Alignment\n",
    "wb = load_workbook('sample4.xlsx')\n",
    "ws = wb.active\n",
    "\n",
    "# 번호(A1), 영어(B1), 수학(C1)\n",
    "a1 = ws['A1']  \n",
    "b1 = ws['B1']\n",
    "c1 = ws['C1']\n",
    "\n",
    "# 너비 조정 - A열의 너비 5로 설정 dimensions\n",
    "ws.column_dimensions['A'].width = 5\n",
    "\n",
    "# 1행의 높이를 20으로 설정\n",
    "ws.row_dimensions[1].height = 30\n",
    "\n",
    "# font\n",
    "a1.font = Font(color='FF0000', italic=True, bold=True)\n",
    "b1.font = Font(color='CC33FF', name='Arial', strike=True)\n",
    "c1.font = Font(color='0000FF', size=20, underline='single')\n",
    "\n",
    "# 테두리\n",
    "thin_border = Border(left=Side(style='thin'), right=Side(style='thin'), top=Side(style='thin'), bottom=Side(style='thin'))\n",
    "a1.border = thin_border\n",
    "b1.border = thin_border\n",
    "c1.border = thin_border\n",
    "\n",
    "# 셀에 색상 적용 - 90점 넘는 경우, 얼라이먼트 설정\n",
    "for row in ws.rows:\n",
    "    for cell in row:\n",
    "        # 모든 셀에 대해 중앙 정렬 - 정렬값(center, left, right, top, bottom)\n",
    "        cell.alignment = Alignment(horizontal='center', vertical='center')\n",
    "        \n",
    "        if cell.column == 1: # A 번호열은 제외:\n",
    "            continue\n",
    "        \n",
    "        # cell이 정수형 데이터이고, 점수 > 90 이면 \n",
    "        if isinstance(cell.value, int) and cell.value > 90:\n",
    "            cell.fill = PatternFill(fgColor='00FF00', fill_type='solid')  # 배경\n",
    "            cell.font = Font(color='FF0000')  # 폰트\n",
    "            \n",
    "# 틀고정하기 - B2 기준으로 틀고정\n",
    "ws.freeze_panes = 'B2'\n",
    "            \n",
    "wb.save('sample4_style.xlsx')"
   ]
  }
 ],
 "metadata": {
  "kernelspec": {
   "display_name": "Python 3.11.1 64-bit",
   "language": "python",
   "name": "python3"
  },
  "language_info": {
   "codemirror_mode": {
    "name": "ipython",
    "version": 3
   },
   "file_extension": ".py",
   "mimetype": "text/x-python",
   "name": "python",
   "nbconvert_exporter": "python",
   "pygments_lexer": "ipython3",
   "version": "3.11.6"
  },
  "orig_nbformat": 4,
  "vscode": {
   "interpreter": {
    "hash": "81eef19b52451e11e3f8bf6bc518dd5f147d5a651198624c9c211c83ec7c4923"
   }
  }
 },
 "nbformat": 4,
 "nbformat_minor": 2
}
