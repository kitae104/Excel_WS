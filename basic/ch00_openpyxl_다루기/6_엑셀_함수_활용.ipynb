{
 "cells": [
  {
   "cell_type": "markdown",
   "metadata": {},
   "source": [
    "# 엑셀 수식(함수) 활용해보기 - '=sum()' 'average()'"
   ]
  },
  {
   "cell_type": "code",
   "execution_count": 1,
   "metadata": {},
   "outputs": [],
   "source": [
    "from openpyxl import Workbook\n",
    "import datetime\n",
    "\n",
    "wb = Workbook()\n",
    "ws = wb.active\n",
    "\n",
    "ws['A1'] = datetime.datetime.today()\n",
    "ws['A2'] = '=sum(1, 2, 3)'  # 1 + 2 + 3 = 6\n",
    "ws['A3'] = '=average(1, 2, 3)'\n",
    "ws['A4'] = 10\n",
    "ws['A5'] = 20\n",
    "ws['A6'] = '=sum(a4:a5)'\n",
    "\n",
    "wb.save('sample_formula.xlsx')"
   ]
  },
  {
   "cell_type": "code",
   "execution_count": 2,
   "metadata": {},
   "outputs": [
    {
     "name": "stdout",
     "output_type": "stream",
     "text": [
      "2023-08-30 23:29:16.721000\n",
      "=sum(1, 2, 3)\n",
      "=average(1, 2, 3)\n",
      "10\n",
      "20\n",
      "=sum(a4:a5)\n",
      "2023-08-30 23:29:16.721000\n",
      "None\n",
      "None\n",
      "10\n",
      "20\n",
      "None\n"
     ]
    }
   ],
   "source": [
    "# 엑셀에서 수식(데이터) 가져오기\n",
    "\n",
    "from openpyxl import load_workbook\n",
    "\n",
    "wb = load_workbook('sample_formula.xlsx')\n",
    "ws = wb.active\n",
    "\n",
    "# 파일에 있는 모든 정보 - 각 셀의 셀 객체가 아닌 value 정보 가져오기\n",
    "for row in ws.values:  # ws.values\n",
    "    for cell in row:\n",
    "        print(cell)\n",
    "\n",
    "# 수식 그대로 불러오는 것이 아니라 값만 불러오게 하기 - data_only=True\n",
    "# 단, 계산(evaluate) 되지 않은 상태(함수 수식 있는 셀)의 데이터는 None이라고 표시됨 (수식만 들어있기 때문임)\n",
    "# 엑셀 파일 열고 저장을 한 후 다시 실행하면 제대로 된 값이 출력됨\n",
    "wb2 = load_workbook('sample_formula.xlsx', data_only=True)\n",
    "ws2 = wb2.active\n",
    "\n",
    "for row in ws2.values:  # ws.values\n",
    "    for cell in row:\n",
    "        print(cell)"
   ]
  }
 ],
 "metadata": {
  "kernelspec": {
   "display_name": "Python 3.11.1 64-bit",
   "language": "python",
   "name": "python3"
  },
  "language_info": {
   "codemirror_mode": {
    "name": "ipython",
    "version": 3
   },
   "file_extension": ".py",
   "mimetype": "text/x-python",
   "name": "python",
   "nbconvert_exporter": "python",
   "pygments_lexer": "ipython3",
   "version": "3.11.6"
  },
  "orig_nbformat": 4,
  "vscode": {
   "interpreter": {
    "hash": "81eef19b52451e11e3f8bf6bc518dd5f147d5a651198624c9c211c83ec7c4923"
   }
  }
 },
 "nbformat": 4,
 "nbformat_minor": 2
}
