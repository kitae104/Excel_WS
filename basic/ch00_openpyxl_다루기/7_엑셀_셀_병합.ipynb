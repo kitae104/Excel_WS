{
 "cells": [
  {
   "cell_type": "markdown",
   "metadata": {},
   "source": [
    "#  엑셀 셀(Cell) 병합 - merge, unmerge"
   ]
  },
  {
   "cell_type": "code",
   "execution_count": 1,
   "metadata": {},
   "outputs": [],
   "source": [
    "from openpyxl import Workbook\n",
    "from openpyxl.styles import Alignment\n",
    "\n",
    "wb = Workbook()\n",
    "ws = wb.active\n",
    "\n",
    "# 병합하기 - merge_cells(range_string, start_row, start_column, end_row, end_column)\n",
    "ws.merge_cells('B2:D2')\n",
    "ws['B2'].value = 'Merged Cell'\n",
    "\n",
    "ws.merge_cells('B4:D6')\n",
    "ws['B4'].value = 'Merged Cell 2'\n",
    "ws['B4'].alignment = alignment = Alignment(horizontal='right', vertical='center')\n",
    "\n",
    "# 병합 셀 해제\n",
    "ws.unmerge_cells('B2:D2')\n",
    "\n",
    "wb.save('sample_merge.xlsx')"
   ]
  }
 ],
 "metadata": {
  "kernelspec": {
   "display_name": "Python 3.11.1 64-bit",
   "language": "python",
   "name": "python3"
  },
  "language_info": {
   "codemirror_mode": {
    "name": "ipython",
    "version": 3
   },
   "file_extension": ".py",
   "mimetype": "text/x-python",
   "name": "python",
   "nbconvert_exporter": "python",
   "pygments_lexer": "ipython3",
   "version": "3.11.6"
  },
  "orig_nbformat": 4,
  "vscode": {
   "interpreter": {
    "hash": "81eef19b52451e11e3f8bf6bc518dd5f147d5a651198624c9c211c83ec7c4923"
   }
  }
 },
 "nbformat": 4,
 "nbformat_minor": 2
}
