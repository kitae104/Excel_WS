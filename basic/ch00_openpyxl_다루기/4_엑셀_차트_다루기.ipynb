{
 "cells": [
  {
   "cell_type": "markdown",
   "metadata": {},
   "source": [
    "# 엑셀 차트 다루기 - BarChart, LineChart 그리고 Reference"
   ]
  },
  {
   "cell_type": "code",
   "execution_count": 1,
   "metadata": {},
   "outputs": [],
   "source": [
    "from openpyxl import load_workbook\n",
    "from openpyxl.chart import BarChart, Reference, LineChart\n",
    "\n",
    "wb = load_workbook('sample4.xlsx')\n",
    "ws = wb.active\n",
    "\n",
    "# value 설정  - 어떤 데이터를 차트로 만들 것인지 정의하는 것\n",
    "# Reference에 차트 만들 현재 워트시트와 워크시트의 범위 지정\n",
    "# Reference(worksheet, min_col, min_row, max_col, max_row, range_string)\n",
    "# var_value = Reference(ws, 'B1:C11')  # 영어, 수학\n",
    "# 계열 > 영어, 수학 (제목에서 가져오기 --> titles_from_data=True)\n",
    "\n",
    "var_value = Reference(ws, min_row=1, max_row=11, min_col=2, max_col=3)  # 영어, 수학\n",
    "bar_chart = BarChart()  # 차트 종류 설정 (Bar, Line, Pie, ...)\n",
    "bar_chart.add_data(var_value, titles_from_data=True)  # 차트 데이터 추가, add_data()\n",
    "\n",
    "# 차트를 워트시트에 넣어주기 - add.chart()\n",
    "ws.add_chart(bar_chart, 'E1')  # 차트 넣을 위치 정의\n",
    "\n",
    "# LineChart 만들기\n",
    "line_value = Reference(ws, min_row=1, max_row=11, min_col=2, max_col=3)  # 영어, 수학\n",
    "line_chart = LineChart()  # 차트 종류 설정 (Bar, Line, Pie, ...)\n",
    "line_chart.add_data(var_value, titles_from_data=True)  # 차트 데이터 추가, add_data()\n",
    "line_chart.title = '성적표'  # 제목\n",
    "line_chart.style = 10  # 미지 정의된 스타일 적용\n",
    "line_chart.y_axis.title = '점수'  # Y축의 제목\n",
    "line_chart.x_axis.title = '번호'  # X축의 제목\n",
    "\n",
    "ws.add_chart(line_chart, 'E15')  # 차트 넣을 위치 정의\n",
    "wb.save('sample_Chart.xlsx')"
   ]
  }
 ],
 "metadata": {
  "kernelspec": {
   "display_name": "Python 3.11.1 64-bit",
   "language": "python",
   "name": "python3"
  },
  "language_info": {
   "codemirror_mode": {
    "name": "ipython",
    "version": 3
   },
   "file_extension": ".py",
   "mimetype": "text/x-python",
   "name": "python",
   "nbconvert_exporter": "python",
   "pygments_lexer": "ipython3",
   "version": "3.11.6"
  },
  "orig_nbformat": 4,
  "vscode": {
   "interpreter": {
    "hash": "81eef19b52451e11e3f8bf6bc518dd5f147d5a651198624c9c211c83ec7c4923"
   }
  }
 },
 "nbformat": 4,
 "nbformat_minor": 2
}
