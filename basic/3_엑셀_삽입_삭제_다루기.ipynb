{
 "cells": [
  {
   "cell_type": "markdown",
   "metadata": {},
   "source": [
    "# 엑셀 파일 만들기 - 행, 열 삽입, 삭제, 이동"
   ]
  },
  {
   "cell_type": "code",
   "execution_count": 1,
   "metadata": {},
   "outputs": [],
   "source": [
    "# 엑셀에서 행, 열 삽입, 삭제, 이동\n",
    "\n",
    "from openpyxl import load_workbook\n",
    "\n",
    "wb = load_workbook('sample5.xlsx')\n",
    "ws = wb.active\n",
    "\n",
    "# 행(row) 추가하기 ws.insert_rows(idx, amount)\n",
    "ws.insert_rows(8)  # 8번쨰 row 비워짐\n",
    "ws.insert_rows(8, 5)  # 8번째 row 위치에서 아래로 5row 추가\n",
    "\n",
    "# 열(column) 추가하기 ws.insert_cols(idx, amount)\n",
    "ws.insert_cols(2)  # B번째 열이 비워짐\n",
    "ws.insert_cols(2, 3)  # B번째 열로부터 우측에 3열 추가\n",
    "\n",
    "wb.save('sample5_insert.xlsx')\n",
    "\n",
    "# 행(row) 삭제하기 ws.delete_rows(idx, amount)\n",
    "ws.delete_rows(8)\n",
    "ws.delete_rows(8, 3)\n",
    "\n",
    "# 열(column) 삭제하기 ws.delete_cols(idx, amount)\n",
    "ws.delete_cols(2)\n",
    "ws.delete_cols(2, 2)\n",
    "\n",
    "wb.save('sample5_delete.xlsx')\n",
    "\n",
    "\n",
    "# 잘라내고 이동하기 - 번호 (국어) 영어 수학\n",
    "# ws.move_range(cell_range, rows=0, cols=0, translate=False)\n",
    "\n",
    "wb2 = load_workbook('sample4.xlsx')\n",
    "ws2 = wb2.active\n",
    "\n",
    "# 영어, 수학 전체를 row는 그대로 col는 1칸 이동\n",
    "ws2.move_range('B1:C11', rows=0, cols=1)  # move>range()\n",
    "ws2['B1'].value = '국어'   # ws2['B1'] = '국어'\n",
    "\n",
    "wb2.save('sample4_move.xlsx')"
   ]
  }
 ],
 "metadata": {
  "kernelspec": {
   "display_name": "Python 3.11.1 64-bit",
   "language": "python",
   "name": "python3"
  },
  "language_info": {
   "codemirror_mode": {
    "name": "ipython",
    "version": 3
   },
   "file_extension": ".py",
   "mimetype": "text/x-python",
   "name": "python",
   "nbconvert_exporter": "python",
   "pygments_lexer": "ipython3",
   "version": "3.11.1"
  },
  "orig_nbformat": 4,
  "vscode": {
   "interpreter": {
    "hash": "81eef19b52451e11e3f8bf6bc518dd5f147d5a651198624c9c211c83ec7c4923"
   }
  }
 },
 "nbformat": 4,
 "nbformat_minor": 2
}
